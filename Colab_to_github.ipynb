{
  "nbformat": 4,
  "nbformat_minor": 0,
  "metadata": {
    "colab": {
      "provenance": [],
      "authorship_tag": "ABX9TyPtg31NmVPHeUDYDyzizw2+"
    },
    "kernelspec": {
      "name": "python3",
      "display_name": "Python 3"
    },
    "language_info": {
      "name": "python"
    }
  },
  "cells": [
    {
      "cell_type": "code",
      "execution_count": 2,
      "metadata": {
        "id": "_CgaQU_QZb7h",
        "colab": {
          "base_uri": "https://localhost:8080/"
        },
        "outputId": "ee282ba4-2cd8-4122-974d-f2064f173efd"
      },
      "outputs": [
        {
          "output_type": "stream",
          "name": "stdout",
          "text": [
            "Corrigiendo metadata.widgets...\n",
            "Notebook corregido y guardado.\n"
          ]
        }
      ],
      "source": [
        "import json\n",
        "\n",
        "# Ruta del notebook actual si está en Colab (ajusta si es necesario)\n",
        "ruta = \"/content/Version_Final_how_to_track_and_count_vehicles_with_yolov11.ipynb\"  # cambia esto\n",
        "\n",
        "# Cargar el notebook como JSON\n",
        "with open(ruta, \"r\", encoding=\"utf-8\") as f:\n",
        "    data = json.load(f)\n",
        "\n",
        "# Limpia los widgets si están dañados\n",
        "if \"widgets\" in data.get(\"metadata\", {}):\n",
        "    print(\"Corrigiendo metadata.widgets...\")\n",
        "    del data[\"metadata\"][\"widgets\"]\n",
        "\n",
        "# Guardar el notebook limpio\n",
        "with open(ruta, \"w\", encoding=\"utf-8\") as f:\n",
        "    json.dump(data, f, indent=1)\n",
        "\n",
        "print(\"Notebook corregido y guardado.\")\n"
      ]
    }
  ]
}